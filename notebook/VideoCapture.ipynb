{
 "cells": [
  {
   "cell_type": "code",
   "execution_count": 1,
   "metadata": {},
   "outputs": [],
   "source": [
    "import cv2\n",
    "import matplotlib.pyplot as plt\n",
    "import numpy as np\n",
    "import os\n",
    "from pathlib import Path"
   ]
  },
  {
   "cell_type": "code",
   "execution_count": 2,
   "metadata": {},
   "outputs": [],
   "source": [
    "cam_idx = 0\n",
    "cap = cv2.VideoCapture(cam_idx)\n",
    "\n",
    "while True:\n",
    "    # Capturing the frame\n",
    "    ret, frame = cap.read()\n",
    "    # print(ret)\n",
    "    # if not ret:\n",
    "    #     print(\"nothing captured\")\n",
    "    #     break\n",
    "\n",
    "\n",
    "    # Put text on image\n",
    "    font = cv2.FONT_ITALIC\n",
    "    predicted_class = \"Karthik\" #<< from your model\n",
    "    # print(x)\n",
    "    # print(frame.shape)\n",
    "    cv2.putText(frame, predicted_class, (480//2, 640//2), font, 1, (255, 0, 0), 2)\n",
    "    cv2.imshow(\"vid frame\", frame)\n",
    "    \n",
    "    if cv2.waitKey(1) & 0xFF == ord('q'): ## To Quit press 1\n",
    "        break\n",
    "\n",
    "cap.release()\n",
    "cv2.destroyAllWindows()"
   ]
  },
  {
   "cell_type": "code",
   "execution_count": 3,
   "metadata": {},
   "outputs": [],
   "source": [
    "## implement model for your famiy\n",
    "cam_idx = 0\n",
    "cap = cv2.VideoCapture(cam_idx)\n",
    "\n",
    "img_idx = 0\n",
    "sample_class = \"Karthik\" #<< from your model\n",
    "os.makedirs(f\"samples/{sample_class}\", exist_ok=True)\n",
    "while True:\n",
    "    # Capturing the frame\n",
    "    ret, frame = cap.read()\n",
    "\n",
    "\n",
    "    # print(x)\n",
    "    # print(frame.shape)\n",
    "    # predicted_class = model(frame) ## << implement this model\n",
    "\n",
    "    # cv2.putText(frame, predicted_class, (480//2, 640//2), font, 1, (255, 0, 0), 2)\n",
    "    cv2.imshow(\"vid frame\", frame)\n",
    "    # cv2.imwrite(f\"samples/{sample_class}/sample_{img_idx}.jpg\", frame)\n",
    "    img_idx += 1\n",
    "    if cv2.waitKey(1) & 0xFF == ord('q'):\n",
    "        break\n",
    "\n",
    "cap.release()\n",
    "cv2.destroyAllWindows()"
   ]
  },
  {
   "cell_type": "code",
   "execution_count": null,
   "metadata": {},
   "outputs": [],
   "source": []
  },
  {
   "cell_type": "code",
   "execution_count": null,
   "metadata": {},
   "outputs": [],
   "source": []
  },
  {
   "cell_type": "code",
   "execution_count": null,
   "metadata": {},
   "outputs": [],
   "source": []
  },
  {
   "cell_type": "code",
   "execution_count": null,
   "metadata": {},
   "outputs": [],
   "source": []
  },
  {
   "cell_type": "code",
   "execution_count": null,
   "metadata": {},
   "outputs": [],
   "source": []
  },
  {
   "cell_type": "code",
   "execution_count": null,
   "metadata": {},
   "outputs": [],
   "source": []
  }
 ],
 "metadata": {
  "interpreter": {
   "hash": "20ce400f25ee155253dab5067942f2ae481f85d9c9c896ec66e3b7f231cdc881"
  },
  "kernelspec": {
   "display_name": "Python 3.6.9 ('SignClass')",
   "language": "python",
   "name": "python3"
  },
  "language_info": {
   "codemirror_mode": {
    "name": "ipython",
    "version": 3
   },
   "file_extension": ".py",
   "mimetype": "text/x-python",
   "name": "python",
   "nbconvert_exporter": "python",
   "pygments_lexer": "ipython3",
   "version": "3.6.9"
  },
  "orig_nbformat": 4
 },
 "nbformat": 4,
 "nbformat_minor": 2
}
